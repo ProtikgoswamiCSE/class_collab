{
  "nbformat": 4,
  "nbformat_minor": 0,
  "metadata": {
    "colab": {
      "provenance": [],
      "include_colab_link": true
    },
    "kernelspec": {
      "name": "python3",
      "display_name": "Python 3"
    },
    "language_info": {
      "name": "python"
    }
  },
  "cells": [
    {
      "cell_type": "markdown",
      "metadata": {
        "id": "view-in-github",
        "colab_type": "text"
      },
      "source": [
        "<a href=\"https://colab.research.google.com/github/ProtikgoswamiCSE/class_collab/blob/main/lab3(18_02_24).ipynb\" target=\"_parent\"><img src=\"https://colab.research.google.com/assets/colab-badge.svg\" alt=\"Open In Colab\"/></a>"
      ]
    },
    {
      "cell_type": "code",
      "execution_count": null,
      "metadata": {
        "id": "AYoPlkQkIGHq",
        "colab": {
          "base_uri": "https://localhost:8080/"
        },
        "outputId": "dcd6792f-b105-46b6-fd5a-c929c43c0b03"
      },
      "outputs": [
        {
          "output_type": "stream",
          "name": "stdout",
          "text": [
            "The List of Square: [16, 25, 36, 49, 64, 81]\n"
          ]
        }
      ],
      "source": [
        "list1=[4,5,6,7,8,9]\n",
        "sq=0\n",
        "list2=[]\n",
        "for i in list1 :\n",
        "  sq=i**2\n",
        "  list2.append(sq)\n",
        "print('The List of Square:',list2)"
      ]
    },
    {
      "cell_type": "code",
      "source": [
        "list1=[4,5,6,7,8,9]\n",
        "sq=0\n",
        "sum=sq\n",
        "list2=[]\n",
        "for i in list1 :\n",
        "  sq=i**2\n",
        "  sum+=sq\n",
        "  list2.append(sq)\n",
        "print('The List of Square:',list2)\n",
        "print('The List of sum:',sum)"
      ],
      "metadata": {
        "colab": {
          "base_uri": "https://localhost:8080/"
        },
        "id": "88T8sTjjLcJy",
        "outputId": "a4dc1d9c-5a94-49cc-adba-f1d36c26e90c"
      },
      "execution_count": null,
      "outputs": [
        {
          "output_type": "stream",
          "name": "stdout",
          "text": [
            "The List of Square: [16, 25, 36, 49, 64, 81]\n",
            "The List of sum: 271\n"
          ]
        }
      ]
    },
    {
      "cell_type": "code",
      "source": [
        "#Even or Odd\n",
        "t1=[1,2,3,4,5,6,7,8,9]\n",
        "for i in t1:\n",
        "  if i%2==0:\n",
        "    print(i,'is an Even Number')\n",
        "  else:\n",
        "    print(i,'is an Odd Number')"
      ],
      "metadata": {
        "colab": {
          "base_uri": "https://localhost:8080/"
        },
        "id": "Fk_zhn1YOX6H",
        "outputId": "7ce1673f-d048-4d71-a13b-5ca0337f480d"
      },
      "execution_count": null,
      "outputs": [
        {
          "output_type": "stream",
          "name": "stdout",
          "text": [
            "1 is an Odd Number\n",
            "2 is an Even Number\n",
            "3 is an Odd Number\n",
            "4 is an Even Number\n",
            "5 is an Odd Number\n",
            "6 is an Even Number\n",
            "7 is an Odd Number\n",
            "8 is an Even Number\n",
            "9 is an Odd Number\n"
          ]
        }
      ]
    },
    {
      "cell_type": "code",
      "source": [
        "print(range(19))\n",
        "print(list(range(19)))\n",
        "print(list(range(3,19)))\n",
        "print(list(range(3,19,4)))\n",
        "print(list(range(0,101,2)))"
      ],
      "metadata": {
        "colab": {
          "base_uri": "https://localhost:8080/"
        },
        "id": "6JFu86h-QHbP",
        "outputId": "23c590b8-27f4-4be2-c972-fa0e11402825"
      },
      "execution_count": null,
      "outputs": [
        {
          "output_type": "stream",
          "name": "stdout",
          "text": [
            "range(0, 19)\n",
            "[0, 1, 2, 3, 4, 5, 6, 7, 8, 9, 10, 11, 12, 13, 14, 15, 16, 17, 18]\n",
            "[3, 4, 5, 6, 7, 8, 9, 10, 11, 12, 13, 14, 15, 16, 17, 18]\n",
            "[3, 7, 11, 15]\n",
            "[0, 2, 4, 6, 8, 10, 12, 14, 16, 18, 20, 22, 24, 26, 28, 30, 32, 34, 36, 38, 40, 42, 44, 46, 48, 50, 52, 54, 56, 58, 60, 62, 64, 66, 68, 70, 72, 74, 76, 78, 80, 82, 84, 86, 88, 90, 92, 94, 96, 98, 100]\n"
          ]
        }
      ]
    },
    {
      "cell_type": "code",
      "source": [
        "t=(\"Daffodil\",\"International\",\"University\")\n",
        "print(\"Uppercase :\")\n",
        "for i in range(len(t)):\n",
        "  print(t[i].upper())"
      ],
      "metadata": {
        "colab": {
          "base_uri": "https://localhost:8080/"
        },
        "id": "Gtn3JP0qSJzU",
        "outputId": "6579bafe-9983-43e5-b54e-58cb9de40faf"
      },
      "execution_count": null,
      "outputs": [
        {
          "output_type": "stream",
          "name": "stdout",
          "text": [
            "Uppercase :\n",
            "DAFFODIL\n",
            "INTERNATIONAL\n",
            "UNIVERSITY\n"
          ]
        }
      ]
    },
    {
      "cell_type": "code",
      "source": [
        "# Converting a string to uppercase\n",
        "original_string = \"Hello, World!\"\n",
        "uppercase_string = original_string.upper()\n",
        "print(uppercase_string)  # Output: HELLO, WORLD!\n",
        "\n",
        "# Converting a string to lowercase\n",
        "original_string = \"Hello, World!\"\n",
        "lowercase_string = original_string.lower()\n",
        "print(lowercase_string)  # Output: hello, world!\n"
      ],
      "metadata": {
        "colab": {
          "base_uri": "https://localhost:8080/"
        },
        "id": "7Z7UOrkRUOy0",
        "outputId": "bb94bb2d-4162-45e1-db76-a68743a43815"
      },
      "execution_count": null,
      "outputs": [
        {
          "output_type": "stream",
          "name": "stdout",
          "text": [
            "HELLO, WORLD!\n",
            "hello, world!\n"
          ]
        }
      ]
    },
    {
      "cell_type": "code",
      "source": [
        "i=0\n",
        "while i<10:\n",
        "  print(\"Before Increment :\",i)\n",
        "  i+=3\n",
        "  print(\"After Increment :\",i)"
      ],
      "metadata": {
        "colab": {
          "base_uri": "https://localhost:8080/"
        },
        "id": "Mfn46tXVUlkM",
        "outputId": "af848197-51ed-4045-f021-d7c76c09b514"
      },
      "execution_count": null,
      "outputs": [
        {
          "output_type": "stream",
          "name": "stdout",
          "text": [
            "Before Increment : 0\n",
            "After Increment : 3\n",
            "Before Increment : 3\n",
            "After Increment : 6\n",
            "Before Increment : 6\n",
            "After Increment : 9\n",
            "Before Increment : 9\n",
            "After Increment : 12\n"
          ]
        }
      ]
    },
    {
      "cell_type": "code",
      "source": [
        "for s in \"daffodil\":\n",
        "  if s == \"f\":\n",
        "    #break\n",
        "    #continue\n",
        "    pass\n",
        "  print('Letter :',s)"
      ],
      "metadata": {
        "colab": {
          "base_uri": "https://localhost:8080/"
        },
        "id": "S-vtdM0vWp8C",
        "outputId": "c12211ab-8e0c-491f-c193-1c78c662e692"
      },
      "execution_count": null,
      "outputs": [
        {
          "output_type": "stream",
          "name": "stdout",
          "text": [
            "Letter : d\n",
            "Letter : a\n",
            "Letter : f\n",
            "Letter : f\n",
            "Letter : o\n",
            "Letter : d\n",
            "Letter : i\n",
            "Letter : l\n"
          ]
        }
      ]
    },
    {
      "cell_type": "code",
      "source": [
        "def separate_vowels_consonants(string):\n",
        "    vowels = \"\"\n",
        "    consonants = \"\"\n",
        "\n",
        "    # Iterate through each character in the string\n",
        "    for char in string:\n",
        "        if char.lower() in 'aeiou':  # Check if the character is a vowel\n",
        "            vowels += char\n",
        "        elif char.isalpha():  # Check if the character is a consonant\n",
        "            consonants += char\n",
        "\n",
        "    return vowels, consonants\n",
        "\n",
        "# Example usage:\n",
        "input_string = \"Hello, World!\"\n",
        "vowels, consonants = separate_vowels_consonants(input_string)\n",
        "print(\"Vowels:\", vowels)         # Output: eo\n",
        "print(\"Consonants:\", consonants) # Output: HllWrld\n"
      ],
      "metadata": {
        "id": "Ak6zG2kMYMfC"
      },
      "execution_count": null,
      "outputs": []
    },
    {
      "cell_type": "code",
      "source": [
        "for s in \"daffodil\":\n",
        "  if s == \"a\"or\"e\"or\"i\"or\"o\"or\"u\":\n",
        "    break\n",
        "    #continue\n",
        "    #pass\n",
        "  print('vowle :',s)\n"
      ],
      "metadata": {
        "id": "8v3W2gNdYoG4"
      },
      "execution_count": null,
      "outputs": []
    },
    {
      "cell_type": "code",
      "source": [
        "input_string = input(\"Enter a string: \")\n",
        "vowels = \"\"\n",
        "consonants = \"\"\n",
        "\n",
        "for char in input_string:\n",
        "    if char.lower() in 'aeiou':\n",
        "        vowels += char\n",
        "    elif char.isalpha():\n",
        "        consonants += char\n",
        "\n",
        "print(\"Vowels:\", vowels)\n",
        "print(\"Consonants:\", consonants)\n"
      ],
      "metadata": {
        "colab": {
          "base_uri": "https://localhost:8080/"
        },
        "id": "DbKdfXFIaL4g",
        "outputId": "cad75f5c-836b-4c85-c11b-2651e30cb1ca"
      },
      "execution_count": null,
      "outputs": [
        {
          "output_type": "stream",
          "name": "stdout",
          "text": [
            "Enter a string: Daffodil International\n",
            "Vowels: aoiIeaioa\n",
            "Consonants: Dffdlntrntnl\n"
          ]
        }
      ]
    },
    {
      "cell_type": "code",
      "source": [
        "v=0;v1=[];c=0;c1=[];\n",
        "for s in \"daffodil\":\n",
        "  if s == \"a\" or s == \"e\" or s == \"i\" or s == \"o\" or s == \"u\":\n",
        "    v+=1\n",
        "    v1.append(s)\n",
        "  elif s==' ':\n",
        "    continue\n",
        "  else:\n",
        "    print('consonant:', s)\n"
      ],
      "metadata": {
        "colab": {
          "base_uri": "https://localhost:8080/"
        },
        "id": "WXiCfSDJZreq",
        "outputId": "485194af-9ae2-4c03-a726-8209be861870"
      },
      "execution_count": null,
      "outputs": [
        {
          "output_type": "stream",
          "name": "stdout",
          "text": [
            "consonant: d\n",
            "consonant: f\n",
            "consonant: f\n",
            "consonant: d\n",
            "consonant: l\n"
          ]
        }
      ]
    },
    {
      "cell_type": "code",
      "source": [
        "import random\n",
        "n=[]\n",
        "for i in range(11):\n",
        "  n.append(random.randint(0, 100))\n",
        "  print(n)"
      ],
      "metadata": {
        "colab": {
          "base_uri": "https://localhost:8080/"
        },
        "id": "Lbil_Bk5bNzH",
        "outputId": "763d6caf-39a7-47c8-8f97-7c9dfaf177f2"
      },
      "execution_count": null,
      "outputs": [
        {
          "output_type": "stream",
          "name": "stdout",
          "text": [
            "[57]\n",
            "[57, 51]\n",
            "[57, 51, 91]\n",
            "[57, 51, 91, 73]\n",
            "[57, 51, 91, 73, 60]\n",
            "[57, 51, 91, 73, 60, 100]\n",
            "[57, 51, 91, 73, 60, 100, 2]\n",
            "[57, 51, 91, 73, 60, 100, 2, 93]\n",
            "[57, 51, 91, 73, 60, 100, 2, 93, 8]\n",
            "[57, 51, 91, 73, 60, 100, 2, 93, 8, 35]\n",
            "[57, 51, 91, 73, 60, 100, 2, 93, 8, 35, 6]\n"
          ]
        }
      ]
    },
    {
      "cell_type": "code",
      "source": [
        "import random\n",
        "n=[]\n",
        "for i in range(11):\n",
        "  n.append(random.randint(0, 100))\n",
        "  print(n)"
      ],
      "metadata": {
        "colab": {
          "base_uri": "https://localhost:8080/"
        },
        "id": "-xjjfGaWdXhG",
        "outputId": "5862ad37-3e0c-433c-cfd2-ba1afb22d0b9"
      },
      "execution_count": null,
      "outputs": [
        {
          "output_type": "stream",
          "name": "stdout",
          "text": [
            "[95]\n",
            "[95, 11]\n",
            "[95, 11, 27]\n",
            "[95, 11, 27, 39]\n",
            "[95, 11, 27, 39, 5]\n",
            "[95, 11, 27, 39, 5, 52]\n",
            "[95, 11, 27, 39, 5, 52, 16]\n",
            "[95, 11, 27, 39, 5, 52, 16, 77]\n",
            "[95, 11, 27, 39, 5, 52, 16, 77, 90]\n",
            "[95, 11, 27, 39, 5, 52, 16, 77, 90, 50]\n",
            "[95, 11, 27, 39, 5, 52, 16, 77, 90, 50, 2]\n"
          ]
        }
      ]
    },
    {
      "cell_type": "code",
      "source": [
        "import random\n",
        "n=[]\n",
        "for i in range(11):\n",
        "  n.append(random.randint(0,100))\n",
        "  print(n)"
      ],
      "metadata": {
        "colab": {
          "base_uri": "https://localhost:8080/"
        },
        "id": "8xmcTyuhdtV1",
        "outputId": "f03ce245-ac91-4828-b75e-eb033ed2a37f"
      },
      "execution_count": null,
      "outputs": [
        {
          "output_type": "stream",
          "name": "stdout",
          "text": [
            "[49]\n",
            "[49, 94]\n",
            "[49, 94, 68]\n",
            "[49, 94, 68, 11]\n",
            "[49, 94, 68, 11, 63]\n",
            "[49, 94, 68, 11, 63, 52]\n",
            "[49, 94, 68, 11, 63, 52, 49]\n",
            "[49, 94, 68, 11, 63, 52, 49, 88]\n",
            "[49, 94, 68, 11, 63, 52, 49, 88, 13]\n",
            "[49, 94, 68, 11, 63, 52, 49, 88, 13, 23]\n",
            "[49, 94, 68, 11, 63, 52, 49, 88, 13, 23, 67]\n"
          ]
        }
      ]
    },
    {
      "cell_type": "code",
      "source": [
        "#evulation"
      ],
      "metadata": {
        "id": "yOyh98CGflFO"
      },
      "execution_count": null,
      "outputs": []
    },
    {
      "cell_type": "code",
      "source": [
        "my_list = [3,5,6,8,4]\n",
        "for iter_var in range(len(my_list)):\n",
        "  my_list.append(my_list[iter_var]+2)\n",
        "  print(my_list)"
      ],
      "metadata": {
        "colab": {
          "base_uri": "https://localhost:8080/"
        },
        "id": "IYCjiRWefoiU",
        "outputId": "f07475c9-9157-4c93-8391-1faeff414af0"
      },
      "execution_count": null,
      "outputs": [
        {
          "output_type": "stream",
          "name": "stdout",
          "text": [
            "[3, 5, 6, 8, 4, 5]\n",
            "[3, 5, 6, 8, 4, 5, 7]\n",
            "[3, 5, 6, 8, 4, 5, 7, 8]\n",
            "[3, 5, 6, 8, 4, 5, 7, 8, 10]\n",
            "[3, 5, 6, 8, 4, 5, 7, 8, 10, 6]\n"
          ]
        }
      ]
    },
    {
      "cell_type": "code",
      "source": [
        "my_list = [3, 5, 6, 8, 4]\n",
        "\n",
        "for iter_var in range(len(my_list)):\n",
        "  my_list.append(my_list[iter_var] + 2)\n",
        "  print(my_list)\n"
      ],
      "metadata": {
        "colab": {
          "base_uri": "https://localhost:8080/"
        },
        "id": "NjCj_o3RkL2Z",
        "outputId": "9a7511a1-badd-487c-961e-e94ddde25145"
      },
      "execution_count": null,
      "outputs": [
        {
          "output_type": "stream",
          "name": "stdout",
          "text": [
            "[3, 5, 6, 8, 4, 5]\n",
            "[3, 5, 6, 8, 4, 5, 7]\n",
            "[3, 5, 6, 8, 4, 5, 7, 8]\n",
            "[3, 5, 6, 8, 4, 5, 7, 8, 10]\n",
            "[3, 5, 6, 8, 4, 5, 7, 8, 10, 6]\n"
          ]
        }
      ]
    },
    {
      "cell_type": "code",
      "source": [
        "def sum(a,b):\n",
        "  c=a+b\n",
        "  return c\n",
        "def Square(a):\n",
        "  return"
      ],
      "metadata": {
        "id": "-Iqkmc9inqzn"
      },
      "execution_count": null,
      "outputs": []
    },
    {
      "cell_type": "code",
      "source": [],
      "metadata": {
        "id": "HinebvjMr3Ar"
      },
      "execution_count": null,
      "outputs": []
    },
    {
      "cell_type": "code",
      "source": [
        "# phon pick"
      ],
      "metadata": {
        "id": "gsqv17kKrH81"
      },
      "execution_count": null,
      "outputs": []
    },
    {
      "cell_type": "code",
      "source": [
        "record={'Abdul':90,'Rahim':80,'Kalam':70}\n",
        "s1='Rahim'\n",
        "s2='Kalam'\n",
        "def marks(s):\n",
        "  for i in record:\n",
        "    if i==s:\n",
        "      return record[i]\n",
        "      break\n",
        "  else:\n",
        "    return f'The Date of {s} is not the record'\n",
        "print(f'Markof {s1}is :',marks(s1))\n",
        "print(f'Markof {s2}is :',marks(s2))"
      ],
      "metadata": {
        "colab": {
          "base_uri": "https://localhost:8080/"
        },
        "id": "04vnHcAzs-J7",
        "outputId": "6ecb4571-2582-4e23-e8f8-966597bf6b3c"
      },
      "execution_count": null,
      "outputs": [
        {
          "output_type": "stream",
          "name": "stdout",
          "text": [
            "Markof Rahimis : 80\n",
            "Markof Kalamis : 70\n"
          ]
        }
      ]
    },
    {
      "cell_type": "code",
      "source": [
        "#amstrong number h.w"
      ],
      "metadata": {
        "id": "7Dmx6bDSvRoa"
      },
      "execution_count": null,
      "outputs": []
    },
    {
      "cell_type": "code",
      "source": [
        "for num in range(0, 100):\n",
        "    if all(num % i != 0 for i in range(2, int(num**0.5) + 1)):\n",
        "      print(num)\n",
        "print(\"\")\n",
        "print(\"Prime numbers between 0 and 100:\")"
      ],
      "metadata": {
        "colab": {
          "base_uri": "https://localhost:8080/"
        },
        "id": "QGfhkoW_vedD",
        "outputId": "18bb907d-933b-4521-e2c7-e2bb126c28ef"
      },
      "execution_count": null,
      "outputs": [
        {
          "output_type": "stream",
          "name": "stdout",
          "text": [
            "0\n",
            "1\n",
            "2\n",
            "3\n",
            "5\n",
            "7\n",
            "11\n",
            "13\n",
            "17\n",
            "19\n",
            "23\n",
            "29\n",
            "31\n",
            "37\n",
            "41\n",
            "43\n",
            "47\n",
            "53\n",
            "59\n",
            "61\n",
            "67\n",
            "71\n",
            "73\n",
            "79\n",
            "83\n",
            "89\n",
            "97\n",
            "\n",
            "Prime numbers between 0 and 100:\n"
          ]
        }
      ]
    }
  ]
}