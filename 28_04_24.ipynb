{
  "nbformat": 4,
  "nbformat_minor": 0,
  "metadata": {
    "colab": {
      "provenance": [],
      "authorship_tag": "ABX9TyNz4M8MD7KsoTSVsnAu0+W5",
      "include_colab_link": true
    },
    "kernelspec": {
      "name": "python3",
      "display_name": "Python 3"
    },
    "language_info": {
      "name": "python"
    }
  },
  "cells": [
    {
      "cell_type": "markdown",
      "metadata": {
        "id": "view-in-github",
        "colab_type": "text"
      },
      "source": [
        "<a href=\"https://colab.research.google.com/github/ProtikgoswamiCSE/class_collab/blob/main/28_04_24.ipynb\" target=\"_parent\"><img src=\"https://colab.research.google.com/assets/colab-badge.svg\" alt=\"Open In Colab\"/></a>"
      ]
    },
    {
      "cell_type": "code",
      "execution_count": null,
      "metadata": {
        "colab": {
          "base_uri": "https://localhost:8080/"
        },
        "id": "bQuKAKN9s77x",
        "outputId": "ba13f898-a11d-44c0-db56-f69834c0050e"
      },
      "outputs": [
        {
          "output_type": "stream",
          "name": "stdout",
          "text": [
            "You can call\n",
            "You can text\n",
            "You can call\n",
            "You can text\n",
            "You can take a photo\n"
          ]
        }
      ],
      "source": [
        "#sec :61_G\n",
        "#Inharetance use ing the code\n",
        "class ButtonPhon:\n",
        "    def call(self):\n",
        "        print(\"You can call\")\n",
        "    def text(self):\n",
        "        print(\"You can text\")\n",
        "\n",
        "class SmartPhone:\n",
        "    def call(self):\n",
        "        print(\"You can call\")\n",
        "    def text(self):\n",
        "        print(\"You can text\")\n",
        "    def photo(self):\n",
        "        print(\"You can take a photo\")\n",
        "\n",
        "phone = ButtonPhon()\n",
        "phone.call()\n",
        "phone.text()\n",
        "\n",
        "phone = SmartPhone()\n",
        "phone.call()\n",
        "phone.text()\n",
        "phone.photo()\n"
      ]
    },
    {
      "cell_type": "code",
      "source": [
        "#sec :61_G\n",
        "#Inharetance useing for reducing the code\n",
        "class ButtonPhon:\n",
        "    def call(self):\n",
        "        print(\"You can call\")\n",
        "    def text(self):\n",
        "        print(\"You can text\")\n",
        "\n",
        "class SmartPhone(ButtonPhon):\n",
        "    def photo(self):\n",
        "        print(\"You can take a photo\")\n",
        "\n",
        "phone = SmartPhone()\n",
        "phone.call()\n",
        "phone.text()\n",
        "phone.photo()\n",
        "\n",
        "print(issubclass(SmartPhone,ButtonPhon))\n",
        "print(issubclass(ButtonPhon,SmartPhone))"
      ],
      "metadata": {
        "colab": {
          "base_uri": "https://localhost:8080/"
        },
        "id": "669i_nMPxyBm",
        "outputId": "a9bbf0a0-c7b8-40b2-854d-4587e46335db"
      },
      "execution_count": null,
      "outputs": [
        {
          "output_type": "stream",
          "name": "stdout",
          "text": [
            "You can call\n",
            "You can text\n",
            "You can take a photo\n",
            "True\n",
            "False\n"
          ]
        }
      ]
    },
    {
      "cell_type": "code",
      "source": [
        "#sec :61_G\n",
        "# Introducing to Inheritance:Method-overriding\n",
        "class ButtonPhon:  #parent class/ super class\n",
        "  def __init__(self):\n",
        "    print(\"I am a ButtonPhone class\")\n",
        "\n",
        "class SmartPhone(ButtonPhon):\n",
        "  def __init__(self):\n",
        "    super().__init__()\n",
        "    print(\"I am a SmartPhone class\")\n",
        "\n",
        "phone = SmartPhone()\n"
      ],
      "metadata": {
        "colab": {
          "base_uri": "https://localhost:8080/"
        },
        "id": "HTMIoP9-yyjL",
        "outputId": "3a67eea1-004f-4895-a2a9-9b833d3d1b69"
      },
      "execution_count": null,
      "outputs": [
        {
          "output_type": "stream",
          "name": "stdout",
          "text": [
            "I am a ButtonPhone class\n",
            "I am a SmartPhone class\n"
          ]
        }
      ]
    },
    {
      "cell_type": "code",
      "source": [
        "#lab evulation\n",
        "class Shape:\n",
        "    def __init__(self, height, width):\n",
        "        self.height = height\n",
        "        self.width = width\n",
        "\n",
        "    def print_info(self):\n",
        "        print(\"I am in Shape class.\")\n",
        "\n",
        "    def area(self):\n",
        "        return self.height * self.width\n",
        "\n",
        "\n",
        "class Triangle(Shape):\n",
        "    def area(self):\n",
        "        return 0.5 * self.height * self.width\n",
        "\n",
        "\n",
        "class Rectangle(Shape):\n",
        "    pass\n",
        "\n",
        "\n",
        "triangle = Triangle(20, 30)\n",
        "rectangle = Rectangle(20, 30)\n",
        "\n",
        "triangle.print_info()\n",
        "print(triangle.area())\n",
        "\n",
        "rectangle.print_info()\n",
        "print(rectangle.area())\n"
      ],
      "metadata": {
        "colab": {
          "base_uri": "https://localhost:8080/"
        },
        "id": "xlUy7muh1BGp",
        "outputId": "bde7ee41-d530-4b5b-9a16-3c622f3da930"
      },
      "execution_count": null,
      "outputs": [
        {
          "output_type": "stream",
          "name": "stdout",
          "text": [
            "I am in Shape class.\n",
            "300.0\n",
            "I am in Shape class.\n",
            "600\n"
          ]
        }
      ]
    },
    {
      "cell_type": "code",
      "source": [
        "class shape:\n",
        "  def __init__(self, height, width):\n",
        "    self.height = height\n",
        "    self.width = width\n",
        "  def area():\n",
        "    print(\"I as a area method in shape class\")\n",
        "\n",
        "class triangle(shape):\n",
        "  def area(self):\n",
        "    area=.5*self.height*self.width\n",
        "    print(f\"Triangle Area: {area}\")\n",
        "\n",
        "class rectangle(shape):\n",
        "  def area(self):\n",
        "    area=self.height*self.width\n",
        "    print (f\"Rectangle Area: {area}\")\n",
        "\n",
        "\n",
        "t1=triangle(20,30)\n",
        "t1.area()\n",
        "r1=rectangle(20,30)\n",
        "r1.area()"
      ],
      "metadata": {
        "colab": {
          "base_uri": "https://localhost:8080/"
        },
        "id": "yCNi_oqc7Y1Q",
        "outputId": "f3400f91-2bdf-4eb9-cd05-91a246d3b086"
      },
      "execution_count": null,
      "outputs": [
        {
          "output_type": "stream",
          "name": "stdout",
          "text": [
            "Triangle Area: 300.0\n",
            "Rectangle Area: 600\n"
          ]
        }
      ]
    },
    {
      "cell_type": "code",
      "source": [
        "#Sec 61_G\n",
        "#malti-level inharitance\n",
        "class A:\n",
        "  def display1(sself):\n",
        "    print(\"I am in A class\")\n",
        "class B(A):\n",
        "  def display2(sself):\n",
        "    print(\"I am in B class\")\n",
        "class c(B):\n",
        "  def display3(sself):\n",
        "    super().display1()\n",
        "    super().display2()\n",
        "    print(\"I am in C class\")\n",
        "\n",
        "ob1 = c()\n",
        "ob1.display3()"
      ],
      "metadata": {
        "colab": {
          "base_uri": "https://localhost:8080/"
        },
        "id": "pjOMW3wM-AVq",
        "outputId": "e830db52-6647-4dfb-c8b8-6ef83c9eff54"
      },
      "execution_count": null,
      "outputs": [
        {
          "output_type": "stream",
          "name": "stdout",
          "text": [
            "I am in A class\n",
            "I am in B class\n",
            "I am in C class\n"
          ]
        }
      ]
    },
    {
      "cell_type": "code",
      "source": [
        "#Sec 61_G\n",
        "#malti-level inharitance\n",
        "class A:\n",
        "  def display(sself):\n",
        "    print(\"I am in A class\")\n",
        "class B:\n",
        "  def display(sself):\n",
        "    print(\"I am in B class\")\n",
        "class C(B,A):\n",
        "  pass\n",
        "  #def display3(sself):\n",
        "    #print(\"I am in C class\")\n",
        "\n",
        "ob1 = C()\n",
        "ob1.display()"
      ],
      "metadata": {
        "colab": {
          "base_uri": "https://localhost:8080/"
        },
        "id": "oqWEl8NfCPCc",
        "outputId": "b57d837c-b3b4-4c52-e2ca-7e0f6d6b26e0"
      },
      "execution_count": null,
      "outputs": [
        {
          "output_type": "stream",
          "name": "stdout",
          "text": [
            "I am in B class\n"
          ]
        }
      ]
    },
    {
      "cell_type": "code",
      "source": [],
      "metadata": {
        "id": "uolZtv1oEIo0"
      },
      "execution_count": null,
      "outputs": []
    }
  ]
}