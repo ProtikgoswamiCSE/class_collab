{
  "nbformat": 4,
  "nbformat_minor": 0,
  "metadata": {
    "colab": {
      "provenance": [],
      "authorship_tag": "ABX9TyOLDy91qCHYXBEKVbXRZKyf",
      "include_colab_link": true
    },
    "kernelspec": {
      "name": "python3",
      "display_name": "Python 3"
    },
    "language_info": {
      "name": "python"
    }
  },
  "cells": [
    {
      "cell_type": "markdown",
      "metadata": {
        "id": "view-in-github",
        "colab_type": "text"
      },
      "source": [
        "<a href=\"https://colab.research.google.com/github/ProtikgoswamiCSE/class_collab/blob/main/lab_(04_05_24).ipynb\" target=\"_parent\"><img src=\"https://colab.research.google.com/assets/colab-badge.svg\" alt=\"Open In Colab\"/></a>"
      ]
    },
    {
      "cell_type": "code",
      "execution_count": null,
      "metadata": {
        "id": "16ddIoRZcNrf",
        "colab": {
          "base_uri": "https://localhost:8080/"
        },
        "outputId": "8a65b464-afdf-4fec-f2b3-18014fc84784"
      },
      "outputs": [
        {
          "output_type": "stream",
          "name": "stdout",
          "text": [
            "I am Triangle Class\n",
            "I am in Rectangle Class\n"
          ]
        }
      ],
      "source": [
        "#Introduction to Abstraction\n",
        "#ABC: Abstract Base Class\n",
        "from abc import ABC, abstractmethod\n",
        "\n",
        "class Shape(ABC):\n",
        "  def method(self):\n",
        "    print(\"I am in Non Abstract Method\")\n",
        "\n",
        "  @abstractmethod\n",
        "  def display(self):\n",
        "    pass\n",
        "class Triangle(Shape):\n",
        "  def display(self):\n",
        "    print(\"I am Triangle Class\")\n",
        "\n",
        "class Rectangle(Shape):\n",
        "  def display(self):\n",
        "    print(\"I am in Rectangle Class\")\n",
        "\n",
        "t1 = Triangle()\n",
        "t1.display()\n",
        "\n",
        "r1 = Rectangle()\n",
        "r1.display()\n"
      ]
    },
    {
      "cell_type": "code",
      "source": [
        "#Introduction to Polymorphism\n",
        "#Built in polymorphic function\n",
        "#String type data\n",
        "print(len(\"Daffodil International University\"))\n",
        "#List type data\n",
        "'''User Define Polymorphism function based on number of arguments used in funtion'''\n",
        "print(len([10,20,30]))\n",
        "\n",
        "#User Define polymorphic function\n",
        "def add(x,y,z=0):\n",
        "  return x+y+z\n",
        "print(add(2,3))\n",
        "print(add(2,3,4))"
      ],
      "metadata": {
        "colab": {
          "base_uri": "https://localhost:8080/"
        },
        "id": "cCF91Ksnc0vU",
        "outputId": "d27ec40e-0a1f-4090-84b9-185c6f6bb574"
      },
      "execution_count": null,
      "outputs": [
        {
          "output_type": "stream",
          "name": "stdout",
          "text": [
            "33\n",
            "3\n",
            "5\n",
            "9\n"
          ]
        }
      ]
    },
    {
      "cell_type": "code",
      "source": [
        "#Polymorphism with Class Method\n",
        "#User defined polymorphic class methods\n",
        "class BD():\n",
        "  def capital(self):\n",
        "    print(\"Dhaka\")\n",
        "  def language(self):\n",
        "    print(\"Bengali\")\n",
        "  def type(self):\n",
        "    print(\"Developing\")\n",
        "\n",
        "class USA():\n",
        "  def capital(self):\n",
        "    print(\"Washington DC\")\n",
        "  def language(self):\n",
        "    print(\"English\")\n",
        "  def type(self):\n",
        "    print(\"Developed\")\n",
        "\n",
        "bd = BD()\n",
        "usa = USA()\n",
        "\n",
        "for country in (bd,usa):\n",
        "  country.capital()\n",
        "  country.language()\n",
        "  country.type()"
      ],
      "metadata": {
        "colab": {
          "base_uri": "https://localhost:8080/"
        },
        "id": "vt6RZ3YIc4xV",
        "outputId": "25df7fcc-7bb4-4fb7-c427-f120148ce7ca"
      },
      "execution_count": null,
      "outputs": [
        {
          "output_type": "stream",
          "name": "stdout",
          "text": [
            "Dhaka\n",
            "Bengali\n",
            "Developing\n",
            "Washington DC\n",
            "English\n",
            "Developed\n"
          ]
        }
      ]
    },
    {
      "cell_type": "code",
      "source": [
        "#polymorphism with Inheritance\n",
        "class Bird:\n",
        "  def intro(self):\n",
        "    print(\"There are many type of birds.\")\n",
        "\n",
        "  def flight(self):\n",
        "    print(\"Most of the bird can fly but, some can't\")\n",
        "\n",
        "class Sparrow(Bird):\n",
        "  def flight(self):\n",
        "    print(\"sparrow can fly\")\n",
        "class Ostrich(Bird):\n",
        "  def flight(self):\n",
        "    print(\"Ostrich can't fly\")\n",
        "\n",
        "bird = Bird()\n",
        "spr = Sparrow()\n",
        "os = Ostrich()\n",
        "\n",
        "bird.intro()\n",
        "bird.flight()\n",
        "\n",
        "spr.intro()\n",
        "spr.flight()\n",
        "\n",
        "os.intro()\n",
        "os.flight()"
      ],
      "metadata": {
        "colab": {
          "base_uri": "https://localhost:8080/"
        },
        "id": "tH-EIBwAc506",
        "outputId": "992d06cd-b591-49ea-fe8b-f1a1f5bcf149"
      },
      "execution_count": null,
      "outputs": [
        {
          "output_type": "stream",
          "name": "stdout",
          "text": [
            "There are many type of birds.\n",
            "Most of the bird can fly but, some can't\n",
            "There are many type of birds.\n",
            "sparrow can fly\n",
            "There are many type of birds.\n",
            "Ostrich can't fly\n"
          ]
        }
      ]
    },
    {
      "cell_type": "code",
      "source": [
        "# Encapsulation: Private Attribute\n",
        "class ABC:\n",
        "    def __init__(self, x, y):\n",
        "        self.x = x\n",
        "        # self.y = y # Public\n",
        "        self.__y = y  # Private\n",
        "\n",
        "    def details(self):\n",
        "        print(f\"X : {self.x} & Y : {self.__y}\")  # Public\n",
        "        print(f\"X : {self.x} & Y : {self.__y}\")\n",
        "\n",
        "# ======================================================\n",
        "\n",
        "a1 = ABC(5, 6)\n",
        "print(a1.x)  # Output: 5\n",
        "print(a1._ABC__y)  # Output: 6\n",
        "a1.details()  # Output: X : 5 & Y : 6\n"
      ],
      "metadata": {
        "colab": {
          "base_uri": "https://localhost:8080/"
        },
        "id": "dgIPPwFjc912",
        "outputId": "1b76ccee-daa2-43da-d18b-cd896ee4f234"
      },
      "execution_count": null,
      "outputs": [
        {
          "output_type": "stream",
          "name": "stdout",
          "text": [
            "5\n",
            "6\n",
            "X : 5 & Y : 6\n",
            "X : 5 & Y : 6\n"
          ]
        }
      ]
    },
    {
      "cell_type": "code",
      "source": [
        "#Encapsulation: Private Method\n",
        "class Student:\n",
        "  def __init__(self, name,id):\n",
        "    self.name = name\n",
        "    self.id = id\n",
        "  def public(self):\n",
        "    print(f\"Name: {self.name} & ID: {self.id}\")\n",
        "    self.__private()\n",
        "  def __private(self):\n",
        "    print(\"Private method executed\")\n",
        "\n",
        "#===========================================\n",
        "\n",
        "s1 = Student(\"Rahim\", 101)\n",
        "s1.public()\n",
        "#s1.private()\n"
      ],
      "metadata": {
        "colab": {
          "base_uri": "https://localhost:8080/"
        },
        "id": "iyFVvWgPdu_e",
        "outputId": "5022a2db-ceb6-4eaa-c547-16359b874182"
      },
      "execution_count": null,
      "outputs": [
        {
          "output_type": "stream",
          "name": "stdout",
          "text": [
            "Name: Rahim & ID: 101\n",
            "Private method executed\n"
          ]
        }
      ]
    },
    {
      "cell_type": "code",
      "source": [
        "import numpy as np\n",
        "x = [1,2,3,4,5]\n",
        "y = [4,5,6,7,8]\n",
        "z = np.add(x,y)\n",
        "print(z)"
      ],
      "metadata": {
        "colab": {
          "base_uri": "https://localhost:8080/"
        },
        "id": "KTKD3_CR0aW5",
        "outputId": "4e18c637-a8ca-4c0c-a8f8-f172146ce54d"
      },
      "execution_count": null,
      "outputs": [
        {
          "output_type": "stream",
          "name": "stdout",
          "text": [
            "[ 5  7  9 11 13]\n"
          ]
        }
      ]
    }
  ]
}