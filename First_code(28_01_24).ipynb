{
  "nbformat": 4,
  "nbformat_minor": 0,
  "metadata": {
    "colab": {
      "provenance": [],
      "include_colab_link": true
    },
    "kernelspec": {
      "name": "python3",
      "display_name": "Python 3"
    },
    "language_info": {
      "name": "python"
    }
  },
  "cells": [
    {
      "cell_type": "markdown",
      "metadata": {
        "id": "view-in-github",
        "colab_type": "text"
      },
      "source": [
        "<a href=\"https://colab.research.google.com/github/ProtikgoswamiCSE/class_collab/blob/main/First_code(28_01_24).ipynb\" target=\"_parent\"><img src=\"https://colab.research.google.com/assets/colab-badge.svg\" alt=\"Open In Colab\"/></a>"
      ]
    },
    {
      "cell_type": "code",
      "execution_count": null,
      "metadata": {
        "colab": {
          "base_uri": "https://localhost:8080/"
        },
        "id": "d99girNt_d6g",
        "outputId": "7fb0612a-7677-4ff4-8d8d-2fe15bec995d"
      },
      "outputs": [
        {
          "output_type": "stream",
          "name": "stdout",
          "text": [
            "Protik\n"
          ]
        }
      ],
      "source": [
        "print(\"Protik\")"
      ]
    },
    {
      "cell_type": "code",
      "source": [
        "value = input(\"kichu likh beta-\")\n",
        "print(value)\n",
        "type(\"value\")"
      ],
      "metadata": {
        "colab": {
          "base_uri": "https://localhost:8080/"
        },
        "id": "8h9wwLoICnZu",
        "outputId": "09d53982-9671-4014-fa9d-4e8ea5d996ae"
      },
      "execution_count": null,
      "outputs": [
        {
          "output_type": "stream",
          "name": "stdout",
          "text": [
            "kichu likh beta-5\n",
            "5\n"
          ]
        },
        {
          "output_type": "execute_result",
          "data": {
            "text/plain": [
              "str"
            ]
          },
          "metadata": {},
          "execution_count": 2
        }
      ]
    },
    {
      "cell_type": "code",
      "source": [
        "username = input(\"Enter Username : \")\n",
        "print (\"Username is :\" + username)"
      ],
      "metadata": {
        "colab": {
          "base_uri": "https://localhost:8080/"
        },
        "id": "n8Ph4yy0DL8F",
        "outputId": "085afd85-b3e3-4e6d-8d21-2fe8e2519478"
      },
      "execution_count": null,
      "outputs": [
        {
          "output_type": "stream",
          "name": "stdout",
          "text": [
            "Enter Username : 10\n",
            "Username is :10\n"
          ]
        }
      ]
    },
    {
      "cell_type": "code",
      "source": [
        "a=10\n",
        "b=5.7\n",
        "c=\"are ki eta\"\n",
        "print(type(a))\n",
        "print(type(b))\n",
        "print(type(c))"
      ],
      "metadata": {
        "colab": {
          "base_uri": "https://localhost:8080/"
        },
        "id": "OLRN53uJEBVk",
        "outputId": "02cd11ab-651e-4175-f64c-80da78183222"
      },
      "execution_count": null,
      "outputs": [
        {
          "output_type": "stream",
          "name": "stdout",
          "text": [
            "<class 'int'>\n",
            "<class 'float'>\n",
            "<class 'str'>\n"
          ]
        }
      ]
    },
    {
      "cell_type": "code",
      "source": [
        "str1 = 'welcome back'\n",
        "str2='our new python program'\n",
        "print(str1[0:2])\n",
        "print(str1[4:])\n",
        "print(str1*2)\n",
        "print(str1 + \" \" +str2)"
      ],
      "metadata": {
        "colab": {
          "base_uri": "https://localhost:8080/"
        },
        "id": "O3_mZ1PHFHSb",
        "outputId": "9045ec9a-d78b-40ce-94e3-3bf7e00d96e6"
      },
      "execution_count": null,
      "outputs": [
        {
          "output_type": "stream",
          "name": "stdout",
          "text": [
            "we\n",
            "ome back\n",
            "welcome backwelcome back\n",
            "welcome back our new python program\n"
          ]
        }
      ]
    },
    {
      "cell_type": "code",
      "source": [
        "list1=[1,\"hi\",\"python\",2]\n",
        "print(type(list1))\n",
        "print(list1)\n",
        "\n",
        "print(list1[3:])\n",
        "\n",
        "print(list1[0:2])\n",
        "\n",
        "print(list1+list1)\n",
        "\n",
        "print(list1*3)"
      ],
      "metadata": {
        "colab": {
          "base_uri": "https://localhost:8080/"
        },
        "id": "p8UQ9an1HqTI",
        "outputId": "0a84905d-95bd-4bc7-dad6-f567c0635f4e"
      },
      "execution_count": null,
      "outputs": [
        {
          "output_type": "stream",
          "name": "stdout",
          "text": [
            "<class 'list'>\n",
            "[1, 'hi', 'python', 2]\n",
            "[2]\n",
            "[1, 'hi']\n",
            "[1, 'hi', 'python', 2, 1, 'hi', 'python', 2]\n",
            "[1, 'hi', 'python', 2, 1, 'hi', 'python', 2, 1, 'hi', 'python', 2]\n"
          ]
        }
      ]
    },
    {
      "cell_type": "code",
      "source": [
        "tup = (\"hi\",\"python\",2)\n",
        "print(type(tup))\n",
        "\n",
        "print(tup)\n",
        "\n",
        "print(tup[1:])\n",
        "\n",
        "print(tup[0:1])\n",
        "\n",
        "print(tup+tup)\n",
        "\n",
        "print(tup*3)"
      ],
      "metadata": {
        "colab": {
          "base_uri": "https://localhost:8080/"
        },
        "id": "YpuBmW1VJFF-",
        "outputId": "7874934f-70e0-4080-f394-0ca8225ae21e"
      },
      "execution_count": null,
      "outputs": [
        {
          "output_type": "stream",
          "name": "stdout",
          "text": [
            "<class 'tuple'>\n",
            "('hi', 'python', 2)\n",
            "('python', 2)\n",
            "('hi',)\n",
            "('hi', 'python', 2, 'hi', 'python', 2)\n",
            "('hi', 'python', 2, 'hi', 'python', 2, 'hi', 'python', 2)\n"
          ]
        }
      ]
    },
    {
      "cell_type": "code",
      "source": [
        "d={1:'jimmy',4:'alex',3:'john',2:'mike'}\n",
        "print(type(d))\n",
        "print(d)\n",
        "print(d.keys())\n",
        "print(d.values())"
      ],
      "metadata": {
        "colab": {
          "base_uri": "https://localhost:8080/"
        },
        "id": "vVEvqJg6L3sz",
        "outputId": "5efc3bd7-3db8-4ba8-f2de-242953fb8a58"
      },
      "execution_count": null,
      "outputs": [
        {
          "output_type": "stream",
          "name": "stdout",
          "text": [
            "<class 'dict'>\n",
            "{1: 'jimmy', 4: 'alex', 3: 'john', 2: 'mike'}\n",
            "dict_keys([1, 4, 3, 2])\n",
            "dict_values(['jimmy', 'alex', 'john', 'mike'])\n"
          ]
        }
      ]
    },
    {
      "cell_type": "code",
      "source": [
        "set1 = set()\n",
        "set2={'james',2,3,'python'}\n",
        "print(type(set1))\n",
        "set1.add('DIU')\n",
        "set1.add('CSE')\n",
        "print(set1)\n",
        "set1.remove('DIU')\n",
        "print(set1)\n",
        "print(set2)"
      ],
      "metadata": {
        "colab": {
          "base_uri": "https://localhost:8080/"
        },
        "id": "YFUQlP4EOUm-",
        "outputId": "23d5f6cc-2c50-4180-fa8d-1ecbb90f6365"
      },
      "execution_count": null,
      "outputs": [
        {
          "output_type": "stream",
          "name": "stdout",
          "text": [
            "<class 'set'>\n",
            "{'CSE', 'DIU'}\n",
            "{'CSE'}\n",
            "{'james', 2, 3, 'python'}\n"
          ]
        }
      ]
    },
    {
      "cell_type": "code",
      "source": [
        "import keyword\n",
        "help(\"keywords\")"
      ],
      "metadata": {
        "colab": {
          "base_uri": "https://localhost:8080/"
        },
        "id": "NHmKmUjgPiqQ",
        "outputId": "9a3f7b78-cef1-48bb-96e5-24ce76f55a14"
      },
      "execution_count": null,
      "outputs": [
        {
          "output_type": "stream",
          "name": "stdout",
          "text": [
            "\n",
            "Here is a list of the Python keywords.  Enter any keyword to get more help.\n",
            "\n",
            "False               class               from                or\n",
            "None                continue            global              pass\n",
            "True                def                 if                  raise\n",
            "and                 del                 import              return\n",
            "as                  elif                in                  try\n",
            "assert              else                is                  while\n",
            "async               except              lambda              with\n",
            "await               finally             nonlocal            yield\n",
            "break               for                 not                 \n",
            "\n"
          ]
        }
      ]
    },
    {
      "cell_type": "code",
      "source": [
        "a= int(input(\"Enter a\"))\n",
        "b=int(input(\"Enter b\"))\n",
        "temp=a\n",
        "a=b\n",
        "b=temp\n",
        "print(a)\n",
        "print(b)"
      ],
      "metadata": {
        "colab": {
          "base_uri": "https://localhost:8080/"
        },
        "id": "veZiscKNQFj4",
        "outputId": "73c2c04a-ede4-485d-f945-0d3867402461"
      },
      "execution_count": null,
      "outputs": [
        {
          "output_type": "stream",
          "name": "stdout",
          "text": [
            "Enter a5\n",
            "Enter b6\n",
            "6\n",
            "5\n"
          ]
        }
      ]
    },
    {
      "cell_type": "code",
      "source": [
        "a =int (input('Enter number a'))\n",
        "b =int (input('Enter number b'))\n",
        "py=a\n",
        "a=b\n",
        "b=py\n",
        "print(a)\n",
        "print(b)"
      ],
      "metadata": {
        "colab": {
          "base_uri": "https://localhost:8080/"
        },
        "id": "hqSHQXdidE83",
        "outputId": "362842de-6720-49e6-a052-1b8495914adc"
      },
      "execution_count": null,
      "outputs": [
        {
          "output_type": "stream",
          "name": "stdout",
          "text": [
            "Enter number a5\n",
            "Enter number b6\n",
            "6\n",
            "5\n"
          ]
        }
      ]
    },
    {
      "cell_type": "code",
      "source": [
        "a= int(input(\"\"))\n",
        "b= int(input(\"\"))\n",
        "py=a\n",
        "a=b\n",
        "b=py\n",
        "print(a)\n",
        "print(b)"
      ],
      "metadata": {
        "colab": {
          "base_uri": "https://localhost:8080/"
        },
        "id": "_ZhdyzZTmwN6",
        "outputId": "848a45e2-9c4a-4279-d93b-cf35afafadca"
      },
      "execution_count": null,
      "outputs": [
        {
          "output_type": "stream",
          "name": "stdout",
          "text": [
            "8\n",
            "0\n",
            "0\n",
            "8\n"
          ]
        }
      ]
    },
    {
      "cell_type": "code",
      "source": [
        "x=0b10100\n",
        "y=100\n",
        "z=0o213\n",
        "u= 0x12d\n",
        "\n",
        "float_1=100.5\n",
        "float_2=1.5e2\n",
        "\n",
        "a=5+3.14j\n",
        "\n",
        "print(x,y,z,u)\n",
        "print(float_1,float_2)\n",
        "print(a,a.imag,a.real)"
      ],
      "metadata": {
        "colab": {
          "base_uri": "https://localhost:8080/"
        },
        "id": "sMDigvm7UGob",
        "outputId": "3bd661ba-6c0e-4e9e-de4a-b1fca822d22c"
      },
      "execution_count": null,
      "outputs": [
        {
          "output_type": "stream",
          "name": "stdout",
          "text": [
            "20 100 139 301\n",
            "100.5 150.0\n",
            "(5+3.14j) 3.14 5.0\n"
          ]
        }
      ]
    },
    {
      "cell_type": "code",
      "source": [
        "str1='''Welcome\n",
        "to my\n",
        "computer'''\n",
        "print(str1)"
      ],
      "metadata": {
        "colab": {
          "base_uri": "https://localhost:8080/"
        },
        "id": "ndgjKYpKVlEB",
        "outputId": "53e5948e-cf6a-478e-a821-f4d5dcb0931c"
      },
      "execution_count": null,
      "outputs": [
        {
          "output_type": "stream",
          "name": "stdout",
          "text": [
            "Welcome\n",
            "to my \n",
            "computer\n"
          ]
        }
      ]
    },
    {
      "cell_type": "code",
      "source": [
        "str2='hello\\\n",
        "mamu'\n",
        "print(str2)"
      ],
      "metadata": {
        "colab": {
          "base_uri": "https://localhost:8080/"
        },
        "id": "M7VhiOtnVvGI",
        "outputId": "7f2e25df-6982-40d0-a8aa-dc9b4a10789f"
      },
      "execution_count": null,
      "outputs": [
        {
          "output_type": "stream",
          "name": "stdout",
          "text": [
            "hellomamu\n"
          ]
        }
      ]
    },
    {
      "cell_type": "code",
      "source": [
        "a=int(input(\"enter first variable:\"))\n",
        "b=int(input(\"enter second variable:\"))\n",
        "print(\"addition\",a+b)\n",
        "print(\"substraction\",a-b)\n",
        "print(\"multi\",a*b)\n",
        "print(\"divi\",a/b)\n",
        "print(\"remainder\",a%b)\n",
        "print(\"expo\",a**b)\n",
        "print(\"floor\",a//b)"
      ],
      "metadata": {
        "colab": {
          "base_uri": "https://localhost:8080/"
        },
        "id": "ta2knwoOXOym",
        "outputId": "b55bfa79-0e0f-4bfc-cab0-8271eebce8f8"
      },
      "execution_count": null,
      "outputs": [
        {
          "output_type": "stream",
          "name": "stdout",
          "text": [
            "enter first variable:5\n",
            "enter second variable:6\n",
            "addition 11\n",
            "substraction -1\n",
            "multi 30\n",
            "divi 0.8333333333333334\n",
            "remainder 5\n",
            "expo 15625\n",
            "floor 0\n"
          ]
        }
      ]
    },
    {
      "cell_type": "code",
      "source": [
        "a=int(input(\"enter first num:\"))\n",
        "b=int(input(\"enter second num:\"))\n",
        "print(\"is equal\",a==b)\n",
        "print(\"not equal\",a!=b)\n",
        "print(\"a less then or equal\",a<=b)\n",
        "print(\"a greater then or equal\",a>=b)\n",
        "print(\"a is greater b\",a>b)\n",
        "print(\"a is less b\",a<b)"
      ],
      "metadata": {
        "colab": {
          "base_uri": "https://localhost:8080/"
        },
        "id": "w2nZy-OXY0qu",
        "outputId": "0c6be49a-565f-48a5-92ce-0fda4172cb61"
      },
      "execution_count": null,
      "outputs": [
        {
          "output_type": "stream",
          "name": "stdout",
          "text": [
            "enter first num:4\n",
            "enter second num:7\n",
            "is equal False\n",
            "not equal True\n",
            "a less then or equal True\n",
            "a greater then or equal False\n",
            "a is greater b False\n",
            "a is less b True\n"
          ]
        }
      ]
    },
    {
      "cell_type": "code",
      "source": [
        "a=int(input(\"enter first num:\"))\n",
        "b=int(input(\"enter second num:\"))\n",
        "print('a=b',a==b)\n",
        "print('a+=b',a+b)\n",
        "print('a-=b',a-b)\n",
        "print('a*=b',a*b)\n",
        "print('a%=b',a%b)\n",
        "print('a**=b',a**b)\n",
        "print('a//=b',a//b)"
      ],
      "metadata": {
        "colab": {
          "base_uri": "https://localhost:8080/"
        },
        "id": "EsrQOIq2aC0l",
        "outputId": "2d562301-c933-48a0-900f-411789ab0c06"
      },
      "execution_count": null,
      "outputs": [
        {
          "output_type": "stream",
          "name": "stdout",
          "text": [
            "enter first num:10\n",
            "enter second num:5\n",
            "a=b False\n",
            "a+=b 15\n",
            "a-=b 5\n",
            "a*=b 50\n",
            "a%=b 0\n",
            "a**=b 100000\n",
            "a//=b 2\n"
          ]
        }
      ]
    },
    {
      "cell_type": "code",
      "source": [
        "a=int(input('enter number A'))\n",
        "b=int (input('enter number B'))\n",
        "py=a\n",
        "a=b\n",
        "b=py\n",
        "print(a)\n",
        "print(b)"
      ],
      "metadata": {
        "colab": {
          "base_uri": "https://localhost:8080/"
        },
        "id": "ctOax7TzDLJr",
        "outputId": "45b14f04-3f2a-4382-d4e4-84993657ba6b"
      },
      "execution_count": null,
      "outputs": [
        {
          "output_type": "stream",
          "name": "stdout",
          "text": [
            "enter number A8\n",
            "enter number B9\n",
            "9\n",
            "8\n"
          ]
        }
      ]
    },
    {
      "cell_type": "code",
      "source": [
        "import calendar\n",
        "year = int(input ('Enter The Year:'))\n",
        "month = int(input ('Enter The month:'))\n",
        "calendar = calendar.month(year,month)\n",
        "print (calendar)"
      ],
      "metadata": {
        "colab": {
          "base_uri": "https://localhost:8080/"
        },
        "id": "wFogvcry1Sh-",
        "outputId": "7c747819-9b8c-4f23-9577-52adaccd4db0"
      },
      "execution_count": null,
      "outputs": [
        {
          "output_type": "stream",
          "name": "stdout",
          "text": [
            "Enter The Year:1997\n",
            "Enter The month:10\n",
            "    October 1997\n",
            "Mo Tu We Th Fr Sa Su\n",
            "       1  2  3  4  5\n",
            " 6  7  8  9 10 11 12\n",
            "13 14 15 16 17 18 19\n",
            "20 21 22 23 24 25 26\n",
            "27 28 29 30 31\n",
            "\n"
          ]
        }
      ]
    },
    {
      "cell_type": "code",
      "source": [
        "import calendar\n",
        "year = int(input('Enter year'))\n",
        "month = int(input('Enter month'))\n",
        "calendar = calendar.month(year,month)\n",
        "print(calendar)"
      ],
      "metadata": {
        "colab": {
          "base_uri": "https://localhost:8080/"
        },
        "id": "QKjiM4ynKk0E",
        "outputId": "8c4fc9e3-e377-4989-b17e-6211775be92e"
      },
      "execution_count": null,
      "outputs": [
        {
          "output_type": "stream",
          "name": "stdout",
          "text": [
            "Enter year2050\n",
            "Enter month10\n",
            "    October 2050\n",
            "Mo Tu We Th Fr Sa Su\n",
            "                1  2\n",
            " 3  4  5  6  7  8  9\n",
            "10 11 12 13 14 15 16\n",
            "17 18 19 20 21 22 23\n",
            "24 25 26 27 28 29 30\n",
            "31\n",
            "\n"
          ]
        }
      ]
    }
  ]
}