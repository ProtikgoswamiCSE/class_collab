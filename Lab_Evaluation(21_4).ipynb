{
  "nbformat": 4,
  "nbformat_minor": 0,
  "metadata": {
    "colab": {
      "provenance": [],
      "authorship_tag": "ABX9TyO/UAkjgHVhlSDY24iD3DWA",
      "include_colab_link": true
    },
    "kernelspec": {
      "name": "python3",
      "display_name": "Python 3"
    },
    "language_info": {
      "name": "python"
    }
  },
  "cells": [
    {
      "cell_type": "markdown",
      "metadata": {
        "id": "view-in-github",
        "colab_type": "text"
      },
      "source": [
        "<a href=\"https://colab.research.google.com/github/ProtikgoswamiCSE/class_collab/blob/main/Lab_Evaluation(21_4).ipynb\" target=\"_parent\"><img src=\"https://colab.research.google.com/assets/colab-badge.svg\" alt=\"Open In Colab\"/></a>"
      ]
    },
    {
      "cell_type": "code",
      "execution_count": null,
      "metadata": {
        "colab": {
          "base_uri": "https://localhost:8080/"
        },
        "id": "ieoj2TAAigwg",
        "outputId": "50f304f4-a36e-4b2a-976d-e775601e36fb"
      },
      "outputs": [
        {
          "output_type": "stream",
          "name": "stdout",
          "text": [
            "Enter the number101\n",
            "It is a palindrome!\n"
          ]
        }
      ],
      "source": [
        "def ispalinomial(s):\n",
        "  return s==s[::-1]\n",
        "\n",
        "s=input('Enter the number')\n",
        "ans = ispalinomial(s)\n",
        "\n",
        "if ans:\n",
        "  print('It is a palindrome!')\n",
        "else:\n",
        "  print('It is not a palindrome.')"
      ]
    },
    {
      "cell_type": "code",
      "source": [
        "def is_anagram(str1, str2):\n",
        "    str1 = str1.lower()\n",
        "    str2 = str2.lower()\n",
        "\n",
        "    str1 = str1.replace(\" \", \"\")\n",
        "    str2 = str2.replace(\" \", \"\")\n",
        "\n",
        "\n",
        "    return sorted(str1) == sorted(str2)\n",
        "\n",
        "str1 = input(\"Enter the first string: \")\n",
        "str2 = input(\"Enter the second string: \")\n",
        "\n",
        "if is_anagram(str1, str2):\n",
        "    print(\"The strings are anagrams!\")\n",
        "else:\n",
        "    print(\"The strings are not anagrams.\")\n"
      ],
      "metadata": {
        "colab": {
          "base_uri": "https://localhost:8080/"
        },
        "id": "OfRGPQgwm_hg",
        "outputId": "69fb91d4-04b9-4d71-ea75-f80f13508f1f"
      },
      "execution_count": null,
      "outputs": [
        {
          "output_type": "stream",
          "name": "stdout",
          "text": [
            "Enter the first string: listen\n",
            "Enter the second string: silent\n",
            "The strings are anagrams!\n"
          ]
        }
      ]
    },
    {
      "cell_type": "code",
      "source": [],
      "metadata": {
        "id": "_13sdS1-D6ew"
      },
      "execution_count": null,
      "outputs": []
    },
    {
      "cell_type": "code",
      "source": [
        "class student:\n",
        "  roll =\" \"\n",
        "  cgpa =\" \"\n",
        "\n",
        "rahim = student()\n",
        "rahim.roll = 101\n",
        "rahim.cgpa = 3.70\n",
        "print(f\"Roll:{rahim.roll} & CGPA:{rahim.cgpa}\")\n",
        "\n",
        "karim = student()\n",
        "karim.roll = 102\n",
        "karim.cgpa = 2.70\n",
        "print(f\"Roll:{karim.roll} & CGPA:{karim.cgpa}\")"
      ],
      "metadata": {
        "id": "sxpsGFydrc_v",
        "colab": {
          "base_uri": "https://localhost:8080/"
        },
        "outputId": "36afc118-3c53-40e6-8f1d-34ce353ea086"
      },
      "execution_count": null,
      "outputs": [
        {
          "output_type": "stream",
          "name": "stdout",
          "text": [
            "Roll:101 & CGPA:3.7\n",
            "Roll:102 & CGPA:2.7\n"
          ]
        }
      ]
    },
    {
      "cell_type": "code",
      "source": [
        "class student:\n",
        "  roll =\" \"\n",
        "  cgpa =\" \"\n",
        "\n",
        "  def display(self):\n",
        "    print(f\"Roll:{self.roll} & CGPA:{self.cgpa}\")\n",
        "\n",
        "rahim = student()\n",
        "rahim.roll = 101\n",
        "rahim.cgpa = 3.70\n",
        "rahim.display()\n",
        "\n",
        "karim = student()\n",
        "karim.roll = 102\n",
        "karim.cgpa = 2.70\n",
        "karim.display()"
      ],
      "metadata": {
        "colab": {
          "base_uri": "https://localhost:8080/"
        },
        "id": "lJKVM9y1waB2",
        "outputId": "943c7590-6f80-46e4-e1ac-6fa6047b36f8"
      },
      "execution_count": null,
      "outputs": [
        {
          "output_type": "stream",
          "name": "stdout",
          "text": [
            "Roll:101 & CGPA:3.7\n",
            "Roll:102 & CGPA:2.7\n"
          ]
        }
      ]
    },
    {
      "cell_type": "code",
      "source": [
        "class student:\n",
        "  roll =\" \"\n",
        "  cgpa =\" \"\n",
        "\n",
        "  def set_value(self,roll,cgpa):\n",
        "    self.roll = roll\n",
        "    self.cgpa = cgpa\n",
        "\n",
        "  def display(self):\n",
        "    print(f\"Roll:{self.roll} & CGPA:{self.cgpa}\")\n",
        "\n",
        "rahim = student()\n",
        "rahim.set_value(101 , 3.70)\n",
        "rahim.display()\n",
        "\n",
        "karim = student()\n",
        "karim.set_value(102 , 3.50)\n",
        "karim.display()"
      ],
      "metadata": {
        "colab": {
          "base_uri": "https://localhost:8080/"
        },
        "id": "r723-w6HzBwS",
        "outputId": "be76dec7-a8ea-4da1-e719-cfe8a9d7ffc8"
      },
      "execution_count": null,
      "outputs": [
        {
          "output_type": "stream",
          "name": "stdout",
          "text": [
            "Roll:101 & CGPA:3.7\n",
            "Roll:102 & CGPA:3.5\n"
          ]
        }
      ]
    },
    {
      "cell_type": "code",
      "source": [
        "class student:\n",
        "  roll =\" \"\n",
        "  cgpa =\" \"\n",
        "\n",
        "  def __init__(self,roll,cgpa):\n",
        "    self.roll = roll\n",
        "    self.cgpa = cgpa\n",
        "\n",
        "  def display(self):\n",
        "    print(f\"Roll:{self.roll} & CGPA:{self.cgpa}\")\n",
        "\n",
        "rahim = student(101 , 3.70)\n",
        "rahim.display()\n",
        "\n",
        "karim = student(102 , 3.50)\n",
        "karim.display()"
      ],
      "metadata": {
        "colab": {
          "base_uri": "https://localhost:8080/"
        },
        "id": "kRMmLIQf1V_C",
        "outputId": "19c6e592-f29c-4b7d-acb2-4995da49b8d6"
      },
      "execution_count": null,
      "outputs": [
        {
          "output_type": "stream",
          "name": "stdout",
          "text": [
            "Roll:101 & CGPA:3.7\n",
            "Roll:102 & CGPA:3.5\n"
          ]
        }
      ]
    },
    {
      "cell_type": "code",
      "source": [
        "class Triangle:\n",
        "    def __init__(self, base, height):\n",
        "        self.base = base\n",
        "        self.height = height\n",
        "\n",
        "    def area(self):\n",
        "        return 0.5 * self.base * self.height\n",
        "\n",
        "triangle = Triangle(10, 20)\n",
        "\n",
        "print(\"The area of the triangle is:\", triangle.area())\n"
      ],
      "metadata": {
        "colab": {
          "base_uri": "https://localhost:8080/"
        },
        "id": "Kfcdi5ynD-SG",
        "outputId": "9f14ac6e-7c52-4da1-b904-91ccb07f0c30"
      },
      "execution_count": null,
      "outputs": [
        {
          "output_type": "stream",
          "name": "stdout",
          "text": [
            "The area of the triangle is: 100.0\n"
          ]
        }
      ]
    },
    {
      "cell_type": "code",
      "source": [
        "class Triangle:\n",
        "    def __init__(self, base, height):\n",
        "        self.base = base\n",
        "        self.height = height\n",
        "\n",
        "    def area(self):\n",
        "        print(\"Area of the triangle :\", 0.5 * self.base * self.height)\n",
        "\n",
        "triangle1 = Triangle(10, 20)\n",
        "triangle1.area()\n",
        "triangle2 = Triangle(20, 30)\n",
        "triangle2.area()\n",
        "\n"
      ],
      "metadata": {
        "colab": {
          "base_uri": "https://localhost:8080/"
        },
        "id": "fapvallQEaRw",
        "outputId": "fc5583b0-f6e3-42b0-8804-45aa5e046bd8"
      },
      "execution_count": null,
      "outputs": [
        {
          "output_type": "stream",
          "name": "stdout",
          "text": [
            "Area of the triangle : 100.0\n",
            "Area of the triangle : 300.0\n"
          ]
        }
      ]
    },
    {
      "cell_type": "code",
      "source": [
        "class Triangle:\n",
        "    def __init__(self, base, height):\n",
        "        self.base = base\n",
        "        self.height = height\n",
        "\n",
        "    def area(self):\n",
        "        print(\"Area of the triangle :\", 0.5 * self.base * self.height)\n",
        "\n",
        "triangle1 = Triangle(10, 20)\n",
        "triangle1.area()\n",
        "triangle2 = Triangle(20, 30)\n",
        "triangle2.area()"
      ],
      "metadata": {
        "colab": {
          "base_uri": "https://localhost:8080/"
        },
        "id": "knlieoDbIIm0",
        "outputId": "a254e4d2-3fee-4536-a124-e8c361d90251"
      },
      "execution_count": null,
      "outputs": [
        {
          "output_type": "stream",
          "name": "stdout",
          "text": [
            "Area of the triangle : 100.0\n",
            "Area of the triangle : 300.0\n"
          ]
        }
      ]
    }
  ]
}