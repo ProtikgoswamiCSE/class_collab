{
  "nbformat": 4,
  "nbformat_minor": 0,
  "metadata": {
    "colab": {
      "provenance": [],
      "authorship_tag": "ABX9TyPuLV3MxPyJ6e3wNqEJtOAx",
      "include_colab_link": true
    },
    "kernelspec": {
      "name": "python3",
      "display_name": "Python 3"
    },
    "language_info": {
      "name": "python"
    }
  },
  "cells": [
    {
      "cell_type": "markdown",
      "metadata": {
        "id": "view-in-github",
        "colab_type": "text"
      },
      "source": [
        "<a href=\"https://colab.research.google.com/github/ProtikgoswamiCSE/class_collab/blob/main/Lab4(25_02_24).ipynb\" target=\"_parent\"><img src=\"https://colab.research.google.com/assets/colab-badge.svg\" alt=\"Open In Colab\"/></a>"
      ]
    },
    {
      "cell_type": "code",
      "execution_count": null,
      "metadata": {
        "colab": {
          "base_uri": "https://localhost:8080/"
        },
        "id": "6r0svfnOKLEk",
        "outputId": "422885a4-d2f8-4712-c312-f4bfc4bdf942"
      },
      "outputs": [
        {
          "output_type": "stream",
          "name": "stdout",
          "text": [
            "Daffodil\n",
            "7.3\n",
            "[1, 4.5, 7.3, 'Daffodil', 'CSE', 19]\n",
            "CSE\n"
          ]
        }
      ],
      "source": [
        "c=[1,4.5,7.3,'Daffodil','CSE']\n",
        "print(c[3])\n",
        "print(c[-3])\n",
        "c.append(19)\n",
        "print(c)\n",
        "print(c[-2])"
      ]
    },
    {
      "cell_type": "code",
      "source": [
        "c=(1,4.5,7.3,'Daffodil','CSE')\n",
        "#print(c[3])\n",
        "#print(c[-3])\n",
        "c+=(19,28)\n",
        "print(c)\n",
        "#print(c[-2])"
      ],
      "metadata": {
        "colab": {
          "base_uri": "https://localhost:8080/"
        },
        "id": "E42mFyBjLtX1",
        "outputId": "c7503849-ea6e-4df8-a410-b32608e7aca2"
      },
      "execution_count": null,
      "outputs": [
        {
          "output_type": "stream",
          "name": "stdout",
          "text": [
            "(1, 4.5, 7.3, 'Daffodil', 'CSE', 19, 28)\n"
          ]
        }
      ]
    },
    {
      "cell_type": "code",
      "source": [
        "t=(1,4.5,7.3,'Daffodil','CSE')\n",
        "a,b,c,d,e=t\n",
        "print(a)\n",
        "print(b)\n",
        "print(c)\n",
        "print(d)"
      ],
      "metadata": {
        "colab": {
          "base_uri": "https://localhost:8080/"
        },
        "id": "oQ5dEf29OGK5",
        "outputId": "c8755f89-d03c-4d09-a5e5-0ee1d7731176"
      },
      "execution_count": null,
      "outputs": [
        {
          "output_type": "stream",
          "name": "stdout",
          "text": [
            "1\n",
            "4.5\n",
            "7.3\n",
            "Daffodil\n"
          ]
        }
      ]
    },
    {
      "cell_type": "code",
      "source": [
        "list =[3,5,8,1,2,4,5,7]\n",
        "list.sort()\n",
        "print(list)"
      ],
      "metadata": {
        "colab": {
          "base_uri": "https://localhost:8080/"
        },
        "id": "RwSyEzXpOyBc",
        "outputId": "ef375383-c05b-4bbf-9958-d390f505ee53"
      },
      "execution_count": null,
      "outputs": [
        {
          "output_type": "stream",
          "name": "stdout",
          "text": [
            "[1, 2, 3, 4, 5, 5, 7, 8]\n"
          ]
        }
      ]
    },
    {
      "cell_type": "code",
      "source": [
        "list =[3,5,8,1,2,4,5,7]\n",
        "list.sort(reverse=True)\n",
        "print(list)"
      ],
      "metadata": {
        "colab": {
          "base_uri": "https://localhost:8080/"
        },
        "id": "xRybETTRPJNO",
        "outputId": "1005958e-1310-449f-ad2e-f8c047b5b89f"
      },
      "execution_count": null,
      "outputs": [
        {
          "output_type": "stream",
          "name": "stdout",
          "text": [
            "[8, 7, 5, 5, 4, 3, 2, 1]\n"
          ]
        }
      ]
    },
    {
      "cell_type": "code",
      "source": [
        "list1 =[3,5,8,1,2,4,5,7]\n",
        "list2 =sorted(list1)\n",
        "list3 =sorted(list1,reverse=True)\n",
        "print(list1)\n",
        "print(list2)\n",
        "print(list3)"
      ],
      "metadata": {
        "colab": {
          "base_uri": "https://localhost:8080/"
        },
        "id": "-z_s1VEzPWcO",
        "outputId": "b071b7e3-3d99-4562-becb-d86a349b2a2a"
      },
      "execution_count": null,
      "outputs": [
        {
          "output_type": "stream",
          "name": "stdout",
          "text": [
            "[3, 5, 8, 1, 2, 4, 5, 7]\n",
            "[1, 2, 3, 4, 5, 5, 7, 8]\n",
            "[8, 7, 5, 5, 4, 3, 2, 1]\n"
          ]
        }
      ]
    },
    {
      "cell_type": "code",
      "source": [
        "list1 =[3,5,8,1,2,4,5,7]\n",
        "#print index nimber\n",
        "print(list.index(5))\n",
        "print(list.index(8))"
      ],
      "metadata": {
        "colab": {
          "base_uri": "https://localhost:8080/"
        },
        "id": "x3mFLNNaP-E2",
        "outputId": "b76953d7-ae0e-40d0-d40a-559d3a7a773d"
      },
      "execution_count": null,
      "outputs": [
        {
          "output_type": "stream",
          "name": "stdout",
          "text": [
            "2\n",
            "0\n"
          ]
        }
      ]
    },
    {
      "cell_type": "code",
      "source": [
        "list1 =[3,5,8,1,2,4,5,7]\n",
        "#print index nimber\n",
        "print(list.index(5))\n",
        "#range\n",
        "print(list.index(3,0,8))"
      ],
      "metadata": {
        "colab": {
          "base_uri": "https://localhost:8080/"
        },
        "id": "sVI65OKSQbx-",
        "outputId": "a1e4cca7-54ac-4e1d-f3d5-6fa6b16ceb7d"
      },
      "execution_count": null,
      "outputs": [
        {
          "output_type": "stream",
          "name": "stdout",
          "text": [
            "2\n",
            "5\n"
          ]
        }
      ]
    },
    {
      "cell_type": "code",
      "source": [
        "list1 =[3,2,1,5,9,2,3,6,7,4,8,9,5,4]\n",
        "print(10 in list)"
      ],
      "metadata": {
        "colab": {
          "base_uri": "https://localhost:8080/"
        },
        "id": "w3JQq0mMQwTT",
        "outputId": "ce2901ed-1c9c-4ff5-8a7a-c55413900150"
      },
      "execution_count": null,
      "outputs": [
        {
          "output_type": "stream",
          "name": "stdout",
          "text": [
            "False\n"
          ]
        }
      ]
    },
    {
      "cell_type": "code",
      "source": [
        "stack=[]\n",
        "stack.append('A')\n",
        "stack.append('B')\n",
        "stack.append('C')\n",
        "stack.append('D')\n",
        "stack.append('E')\n",
        "stack"
      ],
      "metadata": {
        "colab": {
          "base_uri": "https://localhost:8080/"
        },
        "id": "LGhuyEOxRkbg",
        "outputId": "b1415f8a-0f00-436f-b2b5-034e21263138"
      },
      "execution_count": null,
      "outputs": [
        {
          "output_type": "execute_result",
          "data": {
            "text/plain": [
              "['A', 'B', 'C', 'D', 'E']"
            ]
          },
          "metadata": {},
          "execution_count": 28
        }
      ]
    },
    {
      "cell_type": "code",
      "source": [
        "stack.pop()\n",
        "print(stack)\n",
        "stack.pop()\n",
        "print(stack)"
      ],
      "metadata": {
        "colab": {
          "base_uri": "https://localhost:8080/"
        },
        "id": "maOvKc83SIYP",
        "outputId": "93fca63a-ce99-4d86-e0c6-496799e771a9"
      },
      "execution_count": null,
      "outputs": [
        {
          "output_type": "stream",
          "name": "stdout",
          "text": [
            "['A', 'B', 'C', 'D']\n",
            "['A', 'B', 'C']\n"
          ]
        }
      ]
    },
    {
      "cell_type": "code",
      "source": [
        "list=[i for i in range (1,21,2)]\n",
        "print(list)"
      ],
      "metadata": {
        "colab": {
          "base_uri": "https://localhost:8080/"
        },
        "id": "KKqtvLRUShI0",
        "outputId": "8f6bc642-a134-4008-e9f2-80d2c390d99c"
      },
      "execution_count": null,
      "outputs": [
        {
          "output_type": "stream",
          "name": "stdout",
          "text": [
            "[1, 3, 5, 7, 9, 11, 13, 15, 17, 19]\n"
          ]
        }
      ]
    },
    {
      "cell_type": "code",
      "source": [
        "list=[i**2 for i in range (1,21,2)]\n",
        "print(list)"
      ],
      "metadata": {
        "colab": {
          "base_uri": "https://localhost:8080/"
        },
        "id": "9QltlerZS5EL",
        "outputId": "b18f1062-6419-453e-8fa7-30fd500af8cb"
      },
      "execution_count": null,
      "outputs": [
        {
          "output_type": "stream",
          "name": "stdout",
          "text": [
            "[1, 9, 25, 49, 81, 121, 169, 225, 289, 361]\n"
          ]
        }
      ]
    },
    {
      "cell_type": "code",
      "source": [
        "list=[i**2 for i in range (1,21,2) if i%2==1]\n",
        "print(list)"
      ],
      "metadata": {
        "colab": {
          "base_uri": "https://localhost:8080/"
        },
        "id": "Rfqm-qusS_Ql",
        "outputId": "24699246-4201-4b64-9ead-ef037212bca0"
      },
      "execution_count": null,
      "outputs": [
        {
          "output_type": "stream",
          "name": "stdout",
          "text": [
            "[1, 9, 25, 49, 81, 121, 169, 225, 289, 361]\n"
          ]
        }
      ]
    },
    {
      "cell_type": "code",
      "source": [
        "for v in (i**2 for i in range (1,21,2) if i%2==1):\n",
        "  print(v,end='  ')"
      ],
      "metadata": {
        "colab": {
          "base_uri": "https://localhost:8080/"
        },
        "id": "5mCyJDzrTNqx",
        "outputId": "ae96f3a1-5b27-4a70-90f9-8709347549be"
      },
      "execution_count": null,
      "outputs": [
        {
          "output_type": "stream",
          "name": "stdout",
          "text": [
            "1  9  25  49  81  121  169  225  289  361  "
          ]
        }
      ]
    },
    {
      "cell_type": "code",
      "source": [
        "ord('R')\n",
        "#aski value print"
      ],
      "metadata": {
        "colab": {
          "base_uri": "https://localhost:8080/"
        },
        "id": "Z_Y69QtMTnUu",
        "outputId": "77e596ea-edb0-4d6f-a1ae-4ddeffa8efb6"
      },
      "execution_count": null,
      "outputs": [
        {
          "output_type": "execute_result",
          "data": {
            "text/plain": [
              "82"
            ]
          },
          "metadata": {},
          "execution_count": 39
        }
      ]
    },
    {
      "cell_type": "code",
      "source": [
        "list =[3,2,1,5,9,2,3,6,7,4,8,9,5,4]\n",
        "list2=[i for i in reversed (list1)]\n",
        "print(list2)"
      ],
      "metadata": {
        "colab": {
          "base_uri": "https://localhost:8080/"
        },
        "id": "SXIFAlITUBQf",
        "outputId": "fef4f1ca-1ec3-43ab-93ab-01b072072865"
      },
      "execution_count": null,
      "outputs": [
        {
          "output_type": "stream",
          "name": "stdout",
          "text": [
            "[4, 5, 9, 8, 4, 7, 6, 3, 2, 9, 5, 1, 2, 3]\n"
          ]
        }
      ]
    },
    {
      "cell_type": "code",
      "source": [
        "list =[v for v in (i**2 for i in range (1,21,2) if i%2==1)]\n",
        "print(list1)\n",
        "list2=[i for i in reversed (list1)]\n",
        "print(list2)"
      ],
      "metadata": {
        "colab": {
          "base_uri": "https://localhost:8080/"
        },
        "id": "D4vhkCuIUmro",
        "outputId": "bd8e79a5-7cff-49d8-8df6-38ce84ba8869"
      },
      "execution_count": null,
      "outputs": [
        {
          "output_type": "stream",
          "name": "stdout",
          "text": [
            "[3, 2, 1, 5, 9, 2, 3, 6, 7, 4, 8, 9, 5, 4]\n",
            "[4, 5, 9, 8, 4, 7, 6, 3, 2, 9, 5, 1, 2, 3]\n"
          ]
        }
      ]
    },
    {
      "cell_type": "code",
      "source": [
        "a=[[1,2,3,4],[3,4,5,6],[6,7,8,9]]\n",
        "a"
      ],
      "metadata": {
        "colab": {
          "base_uri": "https://localhost:8080/"
        },
        "id": "o26_9NlVVW6n",
        "outputId": "1fb13d22-ca73-471e-ab2d-d508575ca22c"
      },
      "execution_count": null,
      "outputs": [
        {
          "output_type": "execute_result",
          "data": {
            "text/plain": [
              "[[1, 2, 3, 4], [3, 4, 5, 6], [6, 7, 8, 9]]"
            ]
          },
          "metadata": {},
          "execution_count": 46
        }
      ]
    },
    {
      "cell_type": "code",
      "source": [
        "for row in a:\n",
        "  for value in row:\n",
        "    print(value,end='  ')\n",
        "  print()"
      ],
      "metadata": {
        "colab": {
          "base_uri": "https://localhost:8080/"
        },
        "id": "ThH9ITmNWx33",
        "outputId": "35571c4b-e0a7-451e-f093-7c396badae81"
      },
      "execution_count": null,
      "outputs": [
        {
          "output_type": "stream",
          "name": "stdout",
          "text": [
            "1  2  3  4  \n",
            "3  4  5  6  \n",
            "6  7  8  9  \n"
          ]
        }
      ]
    },
    {
      "cell_type": "code",
      "source": [
        "for i,row in enumerate(a):\n",
        "  for j,value in enumerate (row):\n",
        "    print(f'a[{i},{j}]={value}',end='  ')\n",
        "  print()"
      ],
      "metadata": {
        "colab": {
          "base_uri": "https://localhost:8080/"
        },
        "id": "ox9fVzVFXSur",
        "outputId": "00e9bf89-92f3-46ab-e751-fbd5baa19564"
      },
      "execution_count": null,
      "outputs": [
        {
          "output_type": "stream",
          "name": "stdout",
          "text": [
            "a[0,0]=1  a[0,1]=2  a[0,2]=3  a[0,3]=4  \n",
            "a[1,0]=3  a[1,1]=4  a[1,2]=5  a[1,3]=6  \n",
            "a[2,0]=6  a[2,1]=7  a[2,2]=8  a[2,3]=9  \n"
          ]
        }
      ]
    },
    {
      "cell_type": "code",
      "source": [
        "c=[1,4.5,7.3,'Daffodil','CSE']\n",
        "print(c[3])\n",
        "print(c[:3])\n",
        "print(c[3:])\n",
        "print(c[2:])\n",
        "print(c[1:3])\n",
        "print(c[:])"
      ],
      "metadata": {
        "colab": {
          "base_uri": "https://localhost:8080/"
        },
        "id": "A19RaphvZJCN",
        "outputId": "3dd65da5-3d16-405e-d6ba-6f6b068c8e05"
      },
      "execution_count": null,
      "outputs": [
        {
          "output_type": "stream",
          "name": "stdout",
          "text": [
            "Daffodil\n",
            "[1, 4.5, 7.3]\n",
            "['Daffodil', 'CSE']\n",
            "[7.3, 'Daffodil', 'CSE']\n",
            "[4.5, 7.3]\n",
            "[1, 4.5, 7.3, 'Daffodil', 'CSE']\n"
          ]
        }
      ]
    },
    {
      "cell_type": "code",
      "source": [
        "def sum (n):\n",
        "  return n+n\n",
        "numbers =(2,3,4,5,6)\n",
        "result= map(sum,numbers)\n",
        "print(list(result))"
      ],
      "metadata": {
        "id": "cqVCu1FBbGwB",
        "colab": {
          "base_uri": "https://localhost:8080/",
          "height": 176
        },
        "outputId": "71532b83-f4c0-4058-b2a5-508a9fbf964c"
      },
      "execution_count": null,
      "outputs": [
        {
          "output_type": "error",
          "ename": "TypeError",
          "evalue": "'list' object is not callable",
          "traceback": [
            "\u001b[0;31m---------------------------------------------------------------------------\u001b[0m",
            "\u001b[0;31mTypeError\u001b[0m                                 Traceback (most recent call last)",
            "\u001b[0;32m<ipython-input-58-8dd9ce5bdf67>\u001b[0m in \u001b[0;36m<cell line: 5>\u001b[0;34m()\u001b[0m\n\u001b[1;32m      3\u001b[0m \u001b[0mnumbers\u001b[0m \u001b[0;34m=\u001b[0m\u001b[0;34m(\u001b[0m\u001b[0;36m2\u001b[0m\u001b[0;34m,\u001b[0m\u001b[0;36m3\u001b[0m\u001b[0;34m,\u001b[0m\u001b[0;36m4\u001b[0m\u001b[0;34m,\u001b[0m\u001b[0;36m5\u001b[0m\u001b[0;34m,\u001b[0m\u001b[0;36m6\u001b[0m\u001b[0;34m)\u001b[0m\u001b[0;34m\u001b[0m\u001b[0;34m\u001b[0m\u001b[0m\n\u001b[1;32m      4\u001b[0m \u001b[0mresult\u001b[0m\u001b[0;34m=\u001b[0m \u001b[0mmap\u001b[0m\u001b[0;34m(\u001b[0m\u001b[0msum\u001b[0m\u001b[0;34m,\u001b[0m\u001b[0mnumbers\u001b[0m\u001b[0;34m)\u001b[0m\u001b[0;34m\u001b[0m\u001b[0;34m\u001b[0m\u001b[0m\n\u001b[0;32m----> 5\u001b[0;31m \u001b[0mprint\u001b[0m\u001b[0;34m(\u001b[0m\u001b[0mlist\u001b[0m\u001b[0;34m(\u001b[0m\u001b[0mresult\u001b[0m\u001b[0;34m)\u001b[0m\u001b[0;34m)\u001b[0m\u001b[0;34m\u001b[0m\u001b[0;34m\u001b[0m\u001b[0m\n\u001b[0m",
            "\u001b[0;31mTypeError\u001b[0m: 'list' object is not callable"
          ]
        }
      ]
    },
    {
      "cell_type": "code",
      "source": [
        "def chack (n):\n",
        "  if n%2==0:\n",
        "    return (f'{n}is an even Number')\n",
        "  else:\n",
        "    return (f'{n}is an odd Number')\n",
        "l=[i for i in range(1,21)]\n",
        "list(map(check,l))"
      ],
      "metadata": {
        "colab": {
          "base_uri": "https://localhost:8080/",
          "height": 176
        },
        "id": "1c70jUHxdten",
        "outputId": "4dc76c06-5784-4124-fb50-c1652ae6e102"
      },
      "execution_count": null,
      "outputs": [
        {
          "output_type": "error",
          "ename": "NameError",
          "evalue": "name 'check' is not defined",
          "traceback": [
            "\u001b[0;31m---------------------------------------------------------------------------\u001b[0m",
            "\u001b[0;31mNameError\u001b[0m                                 Traceback (most recent call last)",
            "\u001b[0;32m<ipython-input-59-5df88bb619b1>\u001b[0m in \u001b[0;36m<cell line: 7>\u001b[0;34m()\u001b[0m\n\u001b[1;32m      5\u001b[0m     \u001b[0;32mreturn\u001b[0m \u001b[0;34m(\u001b[0m\u001b[0;34mf'{n}is an odd Number'\u001b[0m\u001b[0;34m)\u001b[0m\u001b[0;34m\u001b[0m\u001b[0;34m\u001b[0m\u001b[0m\n\u001b[1;32m      6\u001b[0m \u001b[0ml\u001b[0m\u001b[0;34m=\u001b[0m\u001b[0;34m[\u001b[0m\u001b[0mi\u001b[0m \u001b[0;32mfor\u001b[0m \u001b[0mi\u001b[0m \u001b[0;32min\u001b[0m \u001b[0mrange\u001b[0m\u001b[0;34m(\u001b[0m\u001b[0;36m1\u001b[0m\u001b[0;34m,\u001b[0m\u001b[0;36m21\u001b[0m\u001b[0;34m)\u001b[0m\u001b[0;34m]\u001b[0m\u001b[0;34m\u001b[0m\u001b[0;34m\u001b[0m\u001b[0m\n\u001b[0;32m----> 7\u001b[0;31m \u001b[0mlist\u001b[0m\u001b[0;34m(\u001b[0m\u001b[0mmap\u001b[0m\u001b[0;34m(\u001b[0m\u001b[0mcheck\u001b[0m\u001b[0;34m,\u001b[0m\u001b[0ml\u001b[0m\u001b[0;34m)\u001b[0m\u001b[0;34m)\u001b[0m\u001b[0;34m\u001b[0m\u001b[0;34m\u001b[0m\u001b[0m\n\u001b[0m",
            "\u001b[0;31mNameError\u001b[0m: name 'check' is not defined"
          ]
        }
      ]
    },
    {
      "cell_type": "code",
      "source": [
        "city=dict()\n",
        "city\n",
        "city['Dhanmondi']='1205'\n",
        "city['kolabagan']='1206'\n",
        "city['shyamoli']='1207'\n",
        "city"
      ],
      "metadata": {
        "colab": {
          "base_uri": "https://localhost:8080/"
        },
        "id": "42w2-0FGepQR",
        "outputId": "2dc898aa-9332-46d0-fc97-f96217f7024c"
      },
      "execution_count": null,
      "outputs": [
        {
          "output_type": "execute_result",
          "data": {
            "text/plain": [
              "{'Dhanmondi': '1205', 'kolabagan': '1206', 'shyamoli': '1207'}"
            ]
          },
          "metadata": {},
          "execution_count": 62
        }
      ]
    },
    {
      "cell_type": "code",
      "source": [
        "for area,code in city.items():\n",
        "  print(f'{area}area code is {code}')"
      ],
      "metadata": {
        "colab": {
          "base_uri": "https://localhost:8080/"
        },
        "id": "yBrnInbqfPsY",
        "outputId": "ab81d641-b198-41dc-f3b0-6b2e2b90f065"
      },
      "execution_count": null,
      "outputs": [
        {
          "output_type": "stream",
          "name": "stdout",
          "text": [
            "Dhanmondiarea code is 1205\n",
            "kolabaganarea code is 1206\n",
            "shyamoliarea code is 1207\n"
          ]
        }
      ]
    },
    {
      "cell_type": "code",
      "source": [
        "city['kolabagan']"
      ],
      "metadata": {
        "colab": {
          "base_uri": "https://localhost:8080/",
          "height": 36
        },
        "id": "yKYEKfYIfrDo",
        "outputId": "7228f45e-2047-4b04-deec-05ed2c22fe7f"
      },
      "execution_count": null,
      "outputs": [
        {
          "output_type": "execute_result",
          "data": {
            "text/plain": [
              "'1206'"
            ],
            "application/vnd.google.colaboratory.intrinsic+json": {
              "type": "string"
            }
          },
          "metadata": {},
          "execution_count": 64
        }
      ]
    },
    {
      "cell_type": "code",
      "source": [
        "city.update({'Mohammadpur' :1209})\n",
        "city"
      ],
      "metadata": {
        "colab": {
          "base_uri": "https://localhost:8080/"
        },
        "id": "5aMTsHtif-DT",
        "outputId": "72eeab83-8138-42ec-f8c5-30f64aa556fb"
      },
      "execution_count": null,
      "outputs": [
        {
          "output_type": "execute_result",
          "data": {
            "text/plain": [
              "{'Dhanmondi': '1205',\n",
              " 'kolabagan': '1206',\n",
              " 'shyamoli': '1207',\n",
              " 'Mohammadpur': 1209}"
            ]
          },
          "metadata": {},
          "execution_count": 65
        }
      ]
    },
    {
      "cell_type": "code",
      "source": [
        "city['kolabagan']='1250'\n",
        "city"
      ],
      "metadata": {
        "colab": {
          "base_uri": "https://localhost:8080/"
        },
        "id": "3X-HpFergUKz",
        "outputId": "5dc1ea5d-3ed3-4d05-8d01-5f6458a5bbc0"
      },
      "execution_count": null,
      "outputs": [
        {
          "output_type": "execute_result",
          "data": {
            "text/plain": [
              "{'Dhanmondi': '1205',\n",
              " 'kolabagan': '1250',\n",
              " 'shyamoli': '1207',\n",
              " 'Mohammadpur': 1209}"
            ]
          },
          "metadata": {},
          "execution_count": 66
        }
      ]
    },
    {
      "cell_type": "code",
      "source": [
        "del city['kolabagan']\n",
        "city"
      ],
      "metadata": {
        "colab": {
          "base_uri": "https://localhost:8080/"
        },
        "id": "UUm5Jwy9gkW2",
        "outputId": "b9324b5a-a7b9-4be0-eaed-4018a32bf197"
      },
      "execution_count": null,
      "outputs": [
        {
          "output_type": "execute_result",
          "data": {
            "text/plain": [
              "{'Dhanmondi': '1205', 'shyamoli': '1207', 'Mohammadpur': 1209}"
            ]
          },
          "metadata": {},
          "execution_count": 67
        }
      ]
    },
    {
      "cell_type": "code",
      "source": [
        "colors=set()\n",
        "colors={'red','green','blue'}\n",
        "colors"
      ],
      "metadata": {
        "colab": {
          "base_uri": "https://localhost:8080/"
        },
        "id": "9xxzW10fg9M6",
        "outputId": "47cc25a7-4c0f-4cff-f06b-f2c907b873c7"
      },
      "execution_count": null,
      "outputs": [
        {
          "output_type": "execute_result",
          "data": {
            "text/plain": [
              "{'blue', 'green', 'red'}"
            ]
          },
          "metadata": {},
          "execution_count": 68
        }
      ]
    },
    {
      "cell_type": "code",
      "source": [
        "colors={'red','green','blue'}\n",
        "len(colors)"
      ],
      "metadata": {
        "colab": {
          "base_uri": "https://localhost:8080/"
        },
        "id": "E2U0d0MAhZWB",
        "outputId": "b7ce65ef-d4a9-409b-b93a-98ce32ced06f"
      },
      "execution_count": null,
      "outputs": [
        {
          "output_type": "execute_result",
          "data": {
            "text/plain": [
              "3"
            ]
          },
          "metadata": {},
          "execution_count": 69
        }
      ]
    },
    {
      "cell_type": "code",
      "source": [
        "colors={'red','green','blue'}\n",
        "colors.add('yellow')\n",
        "colors"
      ],
      "metadata": {
        "colab": {
          "base_uri": "https://localhost:8080/"
        },
        "id": "AkIQWsXgh2Nd",
        "outputId": "cc2ed918-886c-4a57-a6e0-5fd626e223f7"
      },
      "execution_count": null,
      "outputs": [
        {
          "output_type": "execute_result",
          "data": {
            "text/plain": [
              "{'blue', 'green', 'red', 'yellow'}"
            ]
          },
          "metadata": {},
          "execution_count": 71
        }
      ]
    },
    {
      "cell_type": "code",
      "source": [
        "n =int(input ('Enter the Number'))\n",
        "for i in range (0,11):\n",
        "#  a into i\n",
        "  print(n,\"x\",i,\"=\",n*i)"
      ],
      "metadata": {
        "colab": {
          "base_uri": "https://localhost:8080/"
        },
        "id": "_C1lGPLikNUM",
        "outputId": "2f815d2c-48ca-402c-f240-5c811eda76fb"
      },
      "execution_count": null,
      "outputs": [
        {
          "output_type": "stream",
          "name": "stdout",
          "text": [
            "Enter the Number10\n",
            "10 x 0 = 0\n",
            "10 x 1 = 10\n",
            "10 x 2 = 20\n",
            "10 x 3 = 30\n",
            "10 x 4 = 40\n",
            "10 x 5 = 50\n",
            "10 x 6 = 60\n",
            "10 x 7 = 70\n",
            "10 x 8 = 80\n",
            "10 x 9 = 90\n",
            "10 x 10 = 100\n"
          ]
        }
      ]
    },
    {
      "cell_type": "code",
      "source": [
        "colors={'red','green','blue'}\n",
        "colors.remove('green')\n",
        "colors"
      ],
      "metadata": {
        "colab": {
          "base_uri": "https://localhost:8080/"
        },
        "id": "1U34bqEfkgZo",
        "outputId": "7669d6ad-eb56-4057-8b65-da63570686eb"
      },
      "execution_count": null,
      "outputs": [
        {
          "output_type": "execute_result",
          "data": {
            "text/plain": [
              "{'blue', 'red'}"
            ]
          },
          "metadata": {},
          "execution_count": 77
        }
      ]
    },
    {
      "cell_type": "code",
      "source": [
        "#input a string vowel and vowel are and consonent conconsonent are\n",
        "a= input('Input the String')\n",
        "\n",
        "print(a)"
      ],
      "metadata": {
        "colab": {
          "base_uri": "https://localhost:8080/"
        },
        "id": "uI60K09kkp8g",
        "outputId": "1408c41c-7aaf-4058-9ea8-0f43665b5570"
      },
      "execution_count": null,
      "outputs": [
        {
          "output_type": "stream",
          "name": "stdout",
          "text": [
            "Input the StringDaffodil\n",
            "Daffodil\n"
          ]
        }
      ]
    },
    {
      "cell_type": "code",
      "source": [
        "def separate_vowels_and_consonants(input_string):\n",
        "    vowels = \"\"\n",
        "    consonants = \"\"\n",
        "    for char in input_string:\n",
        "        if char.lower() in 'aeiou':\n",
        "            vowels += char\n",
        "        elif char.isalpha():\n",
        "            consonants += char\n",
        "    return vowels, consonants\n",
        "\n",
        "input_str = input(\"Enter a string: \")\n",
        "vowels, consonants = separate_vowels_and_consonants(input_str)\n",
        "print(\"Vowels:\", vowels)\n",
        "print(\"Consonants:\", consonants)\n"
      ],
      "metadata": {
        "id": "boEHWX-eoDqG"
      },
      "execution_count": null,
      "outputs": []
    }
  ]
}